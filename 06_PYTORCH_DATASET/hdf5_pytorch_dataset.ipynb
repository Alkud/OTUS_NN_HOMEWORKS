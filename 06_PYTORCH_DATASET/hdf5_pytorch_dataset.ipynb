{
 "cells": [
  {
   "cell_type": "code",
   "execution_count": 1,
   "metadata": {},
   "outputs": [],
   "source": [
    "from torch.utils.data.dataset import Dataset\n",
    "from torch.utils.data import DataLoader\n",
    "from torchvision import transforms\n",
    "from torch import reshape as t_reshape\n",
    "\n",
    "from matplotlib import pyplot as plt\n",
    "\n",
    "import h5py\n",
    "import numpy as np\n",
    "from pathlib import Path\n",
    "\n",
    "import tempfile\n",
    "import urllib.request\n",
    "import tarfile\n",
    "\n",
    "import pickle"
   ]
  },
  {
   "cell_type": "markdown",
   "metadata": {},
   "source": [
    "# Класс HDF5 Dataset для PyTorch"
   ]
  },
  {
   "cell_type": "code",
   "execution_count": 2,
   "metadata": {},
   "outputs": [],
   "source": [
    "cifar10_url = 'https://www.cs.toronto.edu/~kriz/cifar-10-python.tar.gz'"
   ]
  },
  {
   "cell_type": "markdown",
   "metadata": {},
   "source": [
    "### Загружаем набор данных в виде файла tar.gz"
   ]
  },
  {
   "cell_type": "code",
   "execution_count": 3,
   "metadata": {},
   "outputs": [],
   "source": [
    "def get_file_from_url(url_name, file_name, read_size=1024):\n",
    "    with urllib.request.urlopen(url_name) as web_handle:\n",
    "        with open(file=file_name, mode='wb') as target_file:\n",
    "            while True:\n",
    "                data = web_handle.read(read_size)\n",
    "                if len(data) == 0:\n",
    "                    break\n",
    "                target_file.write(data)"
   ]
  },
  {
   "cell_type": "code",
   "execution_count": 4,
   "metadata": {},
   "outputs": [],
   "source": [
    "cifar_targz_file = 'cifar10_raw.tar.gz'"
   ]
  },
  {
   "cell_type": "code",
   "execution_count": 5,
   "metadata": {},
   "outputs": [],
   "source": [
    "get_file_from_url(cifar10_url, cifar_targz_file)"
   ]
  },
  {
   "cell_type": "code",
   "execution_count": 6,
   "metadata": {},
   "outputs": [],
   "source": [
    "# Источник: https://www.cs.toronto.edu/~kriz/cifar.html\n",
    "def unpickle(file):\n",
    "    import pickle\n",
    "    with open(file, 'rb') as fo:\n",
    "        labeled_data = pickle.load(fo, encoding='bytes')\n",
    "    return labeled_data"
   ]
  },
  {
   "cell_type": "markdown",
   "metadata": {},
   "source": [
    "### Распаковывем содержимое архива и сохраняем в файл hdf5"
   ]
  },
  {
   "cell_type": "code",
   "execution_count": 7,
   "metadata": {},
   "outputs": [],
   "source": [
    "def extract_cifar10_to_hdf5(targz_name, h5_name):\n",
    "    train_data = []\n",
    "    train_labels = []\n",
    "    test_data = []\n",
    "    test_labels = []\n",
    "    with tarfile.open(targz_name, 'r:gz') as tar:\n",
    "        # распаковываем файлы архива, имеющие в названии '_batch'\n",
    "        for tarinfo in tar:            \n",
    "            if tarinfo.isreg() and '_batch' in tarinfo.name:\n",
    "                print(f'Extracting {tarinfo.name} file...')\n",
    "            else:\n",
    "                continue\n",
    "            with tempfile.TemporaryDirectory() as temp_dir:\n",
    "                tar.extract(tarinfo, Path(temp_dir))\n",
    "                with open(Path(temp_dir).joinpath(tarinfo.name).absolute(), 'rb') as temp_file:\n",
    "                    batch_dict = pickle.load(temp_file, encoding='bytes')\n",
    "                    batch_data = batch_dict[b'data']\n",
    "                    batch_labels = batch_dict[b'labels']\n",
    "                    # массив тестовых данных откладываем отдельно\n",
    "                    if 'test' in tarinfo.name:\n",
    "                        test_data.append(batch_data)\n",
    "                        test_labels.append(batch_labels)\n",
    "                    # а массивы обучающих данных собираем вместе                         \n",
    "                    else:\n",
    "                        train_data.append(batch_data)\n",
    "                        train_labels.append(batch_labels)\n",
    "    full_train_data = np.concatenate(train_data, axis=0)\n",
    "    full_train_labels = np.concatenate(train_labels, axis=0)    \n",
    "    full_test_data = np.concatenate(test_data, axis=0)\n",
    "    full_test_labels = np.concatenate(test_labels, axis=0)\n",
    "    with h5py.File(h5_name, 'w') as h5_file:\n",
    "        # создаём hdf5 файл и создаём в нём две группы - для тестовых и обучающих выборок\n",
    "        h5_file.create_group('train')\n",
    "        h5_file.create_group('test')\n",
    "        # в каждой группе создаём два набора данных - для изображений и для меток\n",
    "        h5_file['train'].create_dataset('data', data=full_train_data)\n",
    "        h5_file['train'].create_dataset('labels', data=full_train_labels)\n",
    "        h5_file['test'].create_dataset('data', data=full_test_data)\n",
    "        h5_file['test'].create_dataset('labels', data=full_test_labels)        "
   ]
  },
  {
   "cell_type": "code",
   "execution_count": 8,
   "metadata": {},
   "outputs": [
    {
     "name": "stdout",
     "output_type": "stream",
     "text": [
      "Extracting cifar-10-batches-py/data_batch_4 file...\n",
      "Extracting cifar-10-batches-py/test_batch file...\n",
      "Extracting cifar-10-batches-py/data_batch_3 file...\n",
      "Extracting cifar-10-batches-py/data_batch_2 file...\n",
      "Extracting cifar-10-batches-py/data_batch_5 file...\n",
      "Extracting cifar-10-batches-py/data_batch_1 file...\n"
     ]
    }
   ],
   "source": [
    "extract_cifar10_to_hdf5(cifar_targz_file, 'cifar_10.hdf5')"
   ]
  },
  {
   "cell_type": "markdown",
   "metadata": {},
   "source": [
    "### Удаляем исходный архив"
   ]
  },
  {
   "cell_type": "code",
   "execution_count": 9,
   "metadata": {},
   "outputs": [],
   "source": [
    "# !!! Remove tar.gz file\n",
    "\n",
    "cifar_path = Path(cifar_targz_file)\n",
    "if cifar_path.exists():\n",
    "    cifar_path.unlink()"
   ]
  },
  {
   "cell_type": "markdown",
   "metadata": {},
   "source": [
    "### Наследуем наш класс от torch Dataset"
   ]
  },
  {
   "cell_type": "code",
   "execution_count": 10,
   "metadata": {},
   "outputs": [],
   "source": [
    "class HDF5_Dataset(Dataset):\n",
    "    '''\n",
    "    Набор данных в формате файла HDF5\n",
    "    Параметры:\n",
    "    hdf5_file_name (string) : имя файла, содержащего набор данных\n",
    "    train (bool) : True если нужна обучающая выборка, False - если тестовая\n",
    "    transform (callable) : преобразование данных\n",
    "    '''    \n",
    "    def __init__(self, hdf5_file_name, train, transform=None):                \n",
    "        super().__init__()\n",
    "        assert(Path(hdf5_file_name).exists())\n",
    "        self.__h5_file = h5py.File(hdf5_file_name, 'r')        \n",
    "        assert('train' in self.__h5_file.keys() and 'test' in self.__h5_file.keys())        \n",
    "        assert(self.__h5_file['train']['data'].len() == self.__h5_file['train']['labels'].len())\n",
    "        \n",
    "        if train:\n",
    "            self.__data = self.__h5_file['train']['data']\n",
    "            self.__data_size = self.__data.len()\n",
    "            self.__labels = self.__h5_file['train']['labels']\n",
    "        else:\n",
    "            self.__data = self.__h5_file['test']['data']\n",
    "            self.__data_size = self.__data.len()\n",
    "            self.__labels = self.__h5_file['test']['labels']            \n",
    "        \n",
    "        self.__transform = transform\n",
    "    \n",
    "    @property\n",
    "    def size(self):\n",
    "        return self.__data_size\n",
    "    \n",
    "    @property\n",
    "    def data(self):\n",
    "        np_data = np.zeros(self.__data.shape)\n",
    "        self.__data.read_direct(np_data)\n",
    "        return np_data\n",
    "\n",
    "    @property\n",
    "    def labels(self):\n",
    "        return self.__labels\n",
    "    \n",
    "    \n",
    "    def __getitem__(self, index):\n",
    "        if index >= self.__data_size:\n",
    "            raise IndexError('Item index out of range!')\n",
    "        item = self.__data[index]\n",
    "        if self.__transform is not None:\n",
    "            item = self.__transform(item)\n",
    "        label = np.int64(self.__labels[index])\n",
    "        \n",
    "        return (item, label)\n",
    "    \n",
    "    def __len__(self):\n",
    "        return self.__data_size"
   ]
  },
  {
   "cell_type": "code",
   "execution_count": 11,
   "metadata": {},
   "outputs": [],
   "source": [
    "test_dataset = HDF5_Dataset('cifar_10.hdf5', train=True)"
   ]
  },
  {
   "cell_type": "code",
   "execution_count": 12,
   "metadata": {},
   "outputs": [
    {
     "data": {
      "text/plain": [
       "50000"
      ]
     },
     "execution_count": 12,
     "metadata": {},
     "output_type": "execute_result"
    }
   ],
   "source": [
    "test_dataset.size"
   ]
  },
  {
   "cell_type": "markdown",
   "metadata": {},
   "source": [
    "### Исходные изображения хранятся в виде одномерных массивов размером 3072.\n",
    "### Этот размер получается так: 3 канала (цветное изображерие) по 1024 пикселя (32*32).\n",
    "### При этом, первый 1024 значения - пиксели красного канала, и т.д."
   ]
  },
  {
   "cell_type": "code",
   "execution_count": 13,
   "metadata": {},
   "outputs": [],
   "source": [
    "reshaped_data = test_dataset.data.reshape(-1,3,32,32)"
   ]
  },
  {
   "cell_type": "markdown",
   "metadata": {},
   "source": [
    "### Разделяем каналы"
   ]
  },
  {
   "cell_type": "code",
   "execution_count": 14,
   "metadata": {},
   "outputs": [
    {
     "data": {
      "text/plain": [
       "(50000, 3, 32, 32)"
      ]
     },
     "execution_count": 14,
     "metadata": {},
     "output_type": "execute_result"
    }
   ],
   "source": [
    "reshaped_data.shape"
   ]
  },
  {
   "cell_type": "code",
   "execution_count": 15,
   "metadata": {},
   "outputs": [],
   "source": [
    "transposed_data = reshaped_data.transpose([0, 2, 3, 1])"
   ]
  },
  {
   "cell_type": "markdown",
   "metadata": {},
   "source": [
    "### Формируем цветное изображение"
   ]
  },
  {
   "cell_type": "code",
   "execution_count": 16,
   "metadata": {},
   "outputs": [
    {
     "data": {
      "text/plain": [
       "(50000, 32, 32, 3)"
      ]
     },
     "execution_count": 16,
     "metadata": {},
     "output_type": "execute_result"
    }
   ],
   "source": [
    "transposed_data.shape"
   ]
  },
  {
   "cell_type": "markdown",
   "metadata": {},
   "source": [
    "### Вычисляем средние значения и стандартные отклонения поканально по всей обучающей выборке.\n",
    "### Эти значения нужны для последующей нормализации данных."
   ]
  },
  {
   "cell_type": "code",
   "execution_count": 17,
   "metadata": {},
   "outputs": [
    {
     "data": {
      "text/plain": [
       "0.49139967861519607"
      ]
     },
     "execution_count": 17,
     "metadata": {},
     "output_type": "execute_result"
    }
   ],
   "source": [
    "transposed_data[:, :, :, 0].mean() / 255"
   ]
  },
  {
   "cell_type": "code",
   "execution_count": 18,
   "metadata": {},
   "outputs": [
    {
     "data": {
      "text/plain": [
       "0.24703223246328176"
      ]
     },
     "execution_count": 18,
     "metadata": {},
     "output_type": "execute_result"
    }
   ],
   "source": [
    "transposed_data[:, :, :, 0].std() / 255"
   ]
  },
  {
   "cell_type": "code",
   "execution_count": 19,
   "metadata": {},
   "outputs": [
    {
     "data": {
      "text/plain": [
       "0.48215840839460783"
      ]
     },
     "execution_count": 19,
     "metadata": {},
     "output_type": "execute_result"
    }
   ],
   "source": [
    "transposed_data[:, :, :, 1].mean() / 255"
   ]
  },
  {
   "cell_type": "code",
   "execution_count": 20,
   "metadata": {},
   "outputs": [
    {
     "data": {
      "text/plain": [
       "0.2434851280000552"
      ]
     },
     "execution_count": 20,
     "metadata": {},
     "output_type": "execute_result"
    }
   ],
   "source": [
    "transposed_data[:, :, :, 1].std() / 255"
   ]
  },
  {
   "cell_type": "code",
   "execution_count": 21,
   "metadata": {},
   "outputs": [
    {
     "data": {
      "text/plain": [
       "0.44653091444546567"
      ]
     },
     "execution_count": 21,
     "metadata": {},
     "output_type": "execute_result"
    }
   ],
   "source": [
    "transposed_data[:, :, :, 2].mean() / 255"
   ]
  },
  {
   "cell_type": "code",
   "execution_count": 22,
   "metadata": {},
   "outputs": [
    {
     "data": {
      "text/plain": [
       "0.26158784172796484"
      ]
     },
     "execution_count": 22,
     "metadata": {},
     "output_type": "execute_result"
    }
   ],
   "source": [
    "transposed_data[:, :, :, 2].std() / 255"
   ]
  },
  {
   "cell_type": "code",
   "execution_count": 23,
   "metadata": {},
   "outputs": [
    {
     "data": {
      "image/png": "[encoded data removed]",
      "text/plain": [
       "<Figure size 432x288 with 1 Axes>"
      ]
     },
     "metadata": {
      "needs_background": "light"
     },
     "output_type": "display_data"
    }
   ],
   "source": [
    "plt.imshow(transposed_data[1115] / 255);"
   ]
  },
  {
   "cell_type": "markdown",
   "metadata": {},
   "source": [
    "### Цепочка трансофрмаций: преобразование размерностей, приведение значений к диапазону [0, 1] и нормализация."
   ]
  },
  {
   "cell_type": "code",
   "execution_count": 24,
   "metadata": {},
   "outputs": [],
   "source": [
    "cifar10_transform = transforms.Compose([\n",
    "    transforms.Lambda(lambda x: np.reshape(x, (3, 32, 32)).transpose([1, 2, 0])),\n",
    "    transforms.ToTensor(),\n",
    "    transforms.Normalize((0.4914, 0.4822, 0.4465), (0.247, 0.2435, 0.2616))\n",
    "])"
   ]
  },
  {
   "cell_type": "code",
   "execution_count": 25,
   "metadata": {},
   "outputs": [
    {
     "data": {
      "text/plain": [
       "torch.Size([3, 32, 32])"
      ]
     },
     "execution_count": 25,
     "metadata": {},
     "output_type": "execute_result"
    }
   ],
   "source": [
    "cifar10_transform(reshaped_data[0]).shape"
   ]
  },
  {
   "cell_type": "markdown",
   "metadata": {},
   "source": [
    "### Создадим объекты для загрузки тренировочных и тестовых данных из нашего набора."
   ]
  },
  {
   "cell_type": "code",
   "execution_count": 26,
   "metadata": {},
   "outputs": [],
   "source": [
    "cifar5_h5_train_dataset = HDF5_Dataset('cifar_10.hdf5', train=True, transform=cifar10_transform)"
   ]
  },
  {
   "cell_type": "code",
   "execution_count": 27,
   "metadata": {},
   "outputs": [],
   "source": [
    "train_dataloader = DataLoader(dataset=cifar5_h5_train_dataset, batch_size=250, shuffle=True)"
   ]
  },
  {
   "cell_type": "code",
   "execution_count": 28,
   "metadata": {},
   "outputs": [],
   "source": [
    "cifar5_h5_test_dataset = HDF5_Dataset('cifar_10.hdf5', train=False, transform=cifar10_transform)"
   ]
  },
  {
   "cell_type": "code",
   "execution_count": 29,
   "metadata": {},
   "outputs": [],
   "source": [
    "test_dataloader = DataLoader(dataset=cifar5_h5_test_dataset, batch_size=250, shuffle=True)"
   ]
  },
  {
   "cell_type": "code",
   "execution_count": 30,
   "metadata": {},
   "outputs": [],
   "source": [
    "import torch\n",
    "import torch.nn as nn\n",
    "import torch.nn.functional as F\n",
    "import torch.optim as optim"
   ]
  },
  {
   "cell_type": "markdown",
   "metadata": {},
   "source": [
    "### Обучим свёрточную сеть с использованием полученных наборов данных."
   ]
  },
  {
   "cell_type": "code",
   "execution_count": 31,
   "metadata": {},
   "outputs": [],
   "source": [
    "class CNN(nn.Module):\n",
    "    def __init__(self, lr=1e-4, l2=0.):        \n",
    "        super().__init__()\n",
    "\n",
    "        self.conv_layer = nn.Sequential(\n",
    "\n",
    "            # block 1\n",
    "            nn.Conv2d(in_channels=3, out_channels=32, kernel_size=3), # 32x30x30\n",
    "            nn.BatchNorm2d(32),\n",
    "            nn.ReLU(inplace=True),\n",
    "            nn.Conv2d(in_channels=32, out_channels=128, kernel_size=3), # 128x28x28\n",
    "            nn.ReLU(inplace=True),\n",
    "            nn.MaxPool2d(kernel_size=2, stride=2), # 128x14x14\n",
    "\n",
    "            # block 2\n",
    "            nn.Conv2d(in_channels=128, out_channels=256, kernel_size=3), # 256x12x12\n",
    "            nn.BatchNorm2d(256),\n",
    "            nn.ReLU(inplace=True),\n",
    "            nn.Conv2d(in_channels=256, out_channels=256, kernel_size=3), # 256x10x10\n",
    "            nn.ReLU(inplace=True),\n",
    "            nn.MaxPool2d(kernel_size=2, stride=2) # 256x5x5\n",
    "        )\n",
    "        \n",
    "        self.flat = nn.Flatten() # 256*25 = 6400\n",
    "\n",
    "        self.fc_layer = nn.Sequential(\n",
    "            nn.Linear(6400, 3200),\n",
    "            nn.ReLU(inplace=True),\n",
    "            nn.Linear(3200, 800),\n",
    "            nn.ReLU(inplace=True),\n",
    "            nn.Linear(800, 10)\n",
    "        )\n",
    "        \n",
    "        self._loss = None\n",
    "        self.optim = optim.Adam(self.parameters(), lr=lr, weight_decay=l2)  \n",
    "\n",
    "\n",
    "    def forward(self, x):\n",
    "        x = self.conv_layer(x) # 256x5x5        \n",
    "        x = self.flat(x) # 6400        \n",
    "        x = self.fc_layer(x) # 10        \n",
    "        x = F.log_softmax(x, dim=1) # 10        \n",
    "        return x\n",
    "\n",
    "    def loss(self, output, target, **kwargs):\n",
    "        self._loss = F.nll_loss(output, target, **kwargs)\n",
    "        return self._loss    "
   ]
  },
  {
   "cell_type": "code",
   "execution_count": 32,
   "metadata": {},
   "outputs": [],
   "source": [
    "def train_classifier(epoch, model, loader, log=None):\n",
    "    train_size = len(loader.sampler)\n",
    "    correct = 0\n",
    "    for batch_idx, (data, target) in enumerate(loader):        \n",
    "        model.optim.zero_grad()\n",
    "        output = model(data)\n",
    "        loss = model.loss(output, target)\n",
    "        pred = output.max(1, keepdim=True)[1] # get the index of the max log-probability\n",
    "        correct += pred.eq(target.data.view_as(pred)).sum()\n",
    "        loss.backward()\n",
    "        model.optim.step()\n",
    "            \n",
    "        if batch_idx % 100 == 0:\n",
    "            line = f'Train epoch {epoch} [{batch_idx * len(data):05d}/{train_size}] '\n",
    "            loss = f'\\tloss: {model._loss.item():.6f}'\n",
    "            print(line + loss)\n",
    "            \n",
    "    else:\n",
    "        batch_idx += 1\n",
    "        line = f'Train epoch {epoch} [{batch_idx * len(data):05d}/{train_size}] '\n",
    "        loss = f'\\tloss: {model._loss.item():.6f}'\n",
    "        if log is not None:\n",
    "            log.append(model._loss)\n",
    "        print(line + loss)\n",
    "\n",
    "    train_accuracy = float(correct) / len(loader.dataset)\n",
    "    line = f'\\tTrain accuracy: {train_accuracy}'    \n",
    "    print(line)"
   ]
  },
  {
   "cell_type": "code",
   "execution_count": 33,
   "metadata": {},
   "outputs": [],
   "source": [
    "def test_classifier(model, loader, log=None):\n",
    "    \n",
    "    avg_lambda = lambda l: f'loss: {l:.4f}'\n",
    "    acc_lambda = lambda c, p: f'accuracy: {c}/{len(loader.dataset)} ({p:.0f}%)'\n",
    "    line = lambda l, c, p: avg_lambda(l) + '\\t' + acc_lambda(c, p)\n",
    "    \n",
    "    test_loss = 0\n",
    "    correct = 0\n",
    "    test_size = len(loader.sampler)\n",
    "    with torch.no_grad():\n",
    "        for data, target in loader:\n",
    "            output = model(data)            \n",
    "            test_loss += model.loss(output, target, reduction='sum').item() # sum up batch loss\n",
    "            pred = output.data.max(1, keepdim=True)[1] # get the index of the max log-probability\n",
    "            correct += pred.eq(target.data.view_as(pred)).sum()                \n",
    "    \n",
    "    test_loss /= len(loader.dataset)\n",
    "    test_accuracy = float(correct) / len(loader.dataset)\n",
    "    line = line(test_loss, correct, test_accuracy*100)\n",
    "    report = '\\tTest set:' + line\n",
    "    print(report,'\\n')"
   ]
  },
  {
   "cell_type": "code",
   "execution_count": 34,
   "metadata": {},
   "outputs": [],
   "source": [
    "cnn_cifar_classifier = CNN()\n",
    "train_log = []\n",
    "test_log = []"
   ]
  },
  {
   "cell_type": "code",
   "execution_count": 36,
   "metadata": {},
   "outputs": [
    {
     "name": "stdout",
     "output_type": "stream",
     "text": [
      "Train epoch 1 [00000/50000] \tloss: 2.155929\n",
      "Train epoch 1 [25000/50000] \tloss: 1.303649\n",
      "Train epoch 1 [50000/50000] \tloss: 1.118451\n",
      "\tTrain accuracy: 0.50272\n",
      "\tTest set:loss: 1.0924\taccuracy: 6083/10000 (61%) \n",
      "\n",
      "Train epoch 2 [00000/50000] \tloss: 1.074768\n",
      "Train epoch 2 [25000/50000] \tloss: 0.941617\n",
      "Train epoch 2 [50000/50000] \tloss: 0.727696\n",
      "\tTrain accuracy: 0.65774\n",
      "\tTest set:loss: 0.9143\taccuracy: 6781/10000 (68%) \n",
      "\n",
      "Train epoch 3 [00000/50000] \tloss: 0.835358\n",
      "Train epoch 3 [25000/50000] \tloss: 0.749201\n",
      "Train epoch 3 [50000/50000] \tloss: 0.731529\n",
      "\tTrain accuracy: 0.7255\n",
      "\tTest set:loss: 0.8299\taccuracy: 7134/10000 (71%) \n",
      "\n",
      "Train epoch 4 [00000/50000] \tloss: 0.678310\n",
      "Train epoch 4 [25000/50000] \tloss: 0.568471\n",
      "Train epoch 4 [50000/50000] \tloss: 0.659380\n",
      "\tTrain accuracy: 0.78254\n",
      "\tTest set:loss: 0.7344\taccuracy: 7415/10000 (74%) \n",
      "\n",
      "Train epoch 5 [00000/50000] \tloss: 0.427943\n",
      "Train epoch 5 [25000/50000] \tloss: 0.482206\n",
      "Train epoch 5 [50000/50000] \tloss: 0.447646\n",
      "\tTrain accuracy: 0.83094\n",
      "\tTest set:loss: 0.7224\taccuracy: 7514/10000 (75%) \n",
      "\n",
      "Train epoch 6 [00000/50000] \tloss: 0.389295\n",
      "Train epoch 6 [25000/50000] \tloss: 0.390179\n",
      "Train epoch 6 [50000/50000] \tloss: 0.385670\n",
      "\tTrain accuracy: 0.86842\n",
      "\tTest set:loss: 0.7570\taccuracy: 7466/10000 (75%) \n",
      "\n",
      "Train epoch 7 [00000/50000] \tloss: 0.333621\n",
      "Train epoch 7 [25000/50000] \tloss: 0.284660\n",
      "Train epoch 7 [50000/50000] \tloss: 0.288126\n",
      "\tTrain accuracy: 0.90676\n",
      "\tTest set:loss: 0.7229\taccuracy: 7744/10000 (77%) \n",
      "\n",
      "Train epoch 8 [00000/50000] \tloss: 0.208152\n",
      "Train epoch 8 [25000/50000] \tloss: 0.203512\n",
      "Train epoch 8 [50000/50000] \tloss: 0.154937\n",
      "\tTrain accuracy: 0.94384\n",
      "\tTest set:loss: 0.7498\taccuracy: 7706/10000 (77%) \n",
      "\n",
      "Train epoch 9 [00000/50000] \tloss: 0.088690\n",
      "Train epoch 9 [25000/50000] \tloss: 0.091993\n",
      "Train epoch 9 [50000/50000] \tloss: 0.068661\n",
      "\tTrain accuracy: 0.97\n",
      "\tTest set:loss: 0.8073\taccuracy: 7757/10000 (78%) \n",
      "\n",
      "Train epoch 10 [00000/50000] \tloss: 0.062854\n",
      "Train epoch 10 [25000/50000] \tloss: 0.078545\n",
      "Train epoch 10 [50000/50000] \tloss: 0.064731\n",
      "\tTrain accuracy: 0.98648\n",
      "\tTest set:loss: 0.8403\taccuracy: 7769/10000 (78%) \n",
      "\n"
     ]
    }
   ],
   "source": [
    "for epoch in range(1, 11):\n",
    "    cnn_cifar_classifier.train()\n",
    "    train_classifier(epoch, cnn_cifar_classifier, train_dataloader, log=train_log)\n",
    "    cnn_cifar_classifier.eval()\n",
    "    test_classifier(cnn_cifar_classifier, test_dataloader, log=test_log)"
   ]
  },
  {
   "cell_type": "markdown",
   "metadata": {},
   "source": [
    "### Данные преобразуются корректно, сеть обучается."
   ]
  },
  {
   "cell_type": "code",
   "execution_count": null,
   "metadata": {},
   "outputs": [],
   "source": []
  }
 ],
 "metadata": {
  "kernelspec": {
   "display_name": "Python 3",
   "language": "python",
   "name": "python3"
  },
  "language_info": {
   "codemirror_mode": {
    "name": "ipython",
    "version": 3
   },
   "file_extension": ".py",
   "mimetype": "text/x-python",
   "name": "python",
   "nbconvert_exporter": "python",
   "pygments_lexer": "ipython3",
   "version": "3.7.6"
  }
 },
 "nbformat": 4,
 "nbformat_minor": 4
}
