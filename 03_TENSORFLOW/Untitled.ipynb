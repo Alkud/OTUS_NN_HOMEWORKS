{
 "cells": [
  {
   "cell_type": "code",
   "execution_count": 1,
   "metadata": {},
   "outputs": [],
   "source": [
    "import tensorflow as tf\n",
    "import tensorflow.keras as keras\n",
    "import numpy as np\n",
    "from typing import Callable"
   ]
  },
  {
   "cell_type": "code",
   "execution_count": 3,
   "metadata": {},
   "outputs": [],
   "source": [
    "def dense(x, W, b, activation):\n",
    "    return activation(tf.matmul(x, W) + b)"
   ]
  },
  {
   "cell_type": "code",
   "execution_count": 15,
   "metadata": {},
   "outputs": [],
   "source": [
    "x = np.random.randn(1,10)\n",
    "W = tf.Variable(np.random.randn(10, 10))\n",
    "b = tf.Variable(np.random.randn(1,10))"
   ]
  },
  {
   "cell_type": "code",
   "execution_count": 16,
   "metadata": {},
   "outputs": [
    {
     "data": {
      "text/plain": [
       "<tf.Tensor: id=67, shape=(1, 10), dtype=float64, numpy=\n",
       "array([[ 1.05096749, -1.26601666, -1.45583392,  1.5720686 , -0.4322612 ,\n",
       "         1.69938904, -3.08727146,  6.28210875,  1.4634053 , -2.7596931 ]])>"
      ]
     },
     "execution_count": 16,
     "metadata": {},
     "output_type": "execute_result"
    }
   ],
   "source": [
    "x @ W + b"
   ]
  },
  {
   "cell_type": "code",
   "execution_count": 17,
   "metadata": {},
   "outputs": [
    {
     "name": "stdout",
     "output_type": "stream",
     "text": [
      "tf.Tensor(\n",
      "[[0.74096064 0.2199399  0.18910534 0.8280783  0.39358651 0.84545492\n",
      "  0.04363536 0.99813403 0.81205295 0.05954155]], shape=(1, 10), dtype=float64)\n"
     ]
    }
   ],
   "source": [
    "print(dense(x, W, b, tf.sigmoid))"
   ]
  },
  {
   "cell_type": "code",
   "execution_count": 18,
   "metadata": {},
   "outputs": [],
   "source": [
    "with tf.GradientTape() as tape:\n",
    "    z = dense(x, W, b, tf.sigmoid)"
   ]
  },
  {
   "cell_type": "code",
   "execution_count": 19,
   "metadata": {},
   "outputs": [
    {
     "data": {
      "text/plain": [
       "array([1, 0, 1, 1, 1, 1, 0, 1, 1, 1])"
      ]
     },
     "execution_count": 19,
     "metadata": {},
     "output_type": "execute_result"
    }
   ],
   "source": [
    "y = np.random.randint(0,2,10)\n",
    "y"
   ]
  },
  {
   "cell_type": "code",
   "execution_count": 20,
   "metadata": {},
   "outputs": [
    {
     "data": {
      "text/plain": [
       "<tf.Tensor: id=95, shape=(1,), dtype=float64, numpy=array([19.36698815])>"
      ]
     },
     "execution_count": 20,
     "metadata": {},
     "output_type": "execute_result"
    }
   ],
   "source": [
    "loss =tf.keras.losses.categorical_crossentropy(y, z)\n",
    "loss"
   ]
  },
  {
   "cell_type": "code",
   "execution_count": 21,
   "metadata": {},
   "outputs": [
    {
     "data": {
      "text/plain": [
       "[None, None]"
      ]
     },
     "execution_count": 21,
     "metadata": {},
     "output_type": "execute_result"
    }
   ],
   "source": [
    "gradients=tape.gradient(loss, [W,b])\n",
    "gradients"
   ]
  },
  {
   "cell_type": "code",
   "execution_count": 28,
   "metadata": {},
   "outputs": [
    {
     "data": {
      "text/plain": [
       "array([[-0.31337168, -0.92800188,  0.50350802,  0.05250709,  0.8143183 ,\n",
       "        -0.60639133,  0.27085931, -1.10737336, -0.67667743, -0.38956157]])"
      ]
     },
     "execution_count": 28,
     "metadata": {},
     "output_type": "execute_result"
    }
   ],
   "source": [
    "x"
   ]
  },
  {
   "cell_type": "code",
   "execution_count": 29,
   "metadata": {},
   "outputs": [
    {
     "data": {
      "text/plain": [
       "<tf.Variable 'Variable:0' shape=(10, 10) dtype=float64, numpy=\n",
       "array([[ 0.07297268,  1.32454277, -0.59718079,  0.73752961, -1.85201272,\n",
       "        -1.02996744,  0.66441819, -0.86441012,  0.54089656, -1.84891749],\n",
       "       [ 0.35938787,  1.76376287,  0.82953067,  0.15358846, -0.04617509,\n",
       "        -0.12401388,  0.1691342 ,  0.27392022, -0.27571712,  0.42912261],\n",
       "       [ 0.71799428, -0.68504716,  1.28526938,  0.07396679, -0.90576275,\n",
       "         0.90426652, -0.72060686,  1.43219806,  0.83284663,  0.85528052],\n",
       "       [ 1.52846801, -0.33621203,  0.76207095, -1.25047993, -0.34127098,\n",
       "        -0.78360946,  0.52926572, -0.74823179,  1.11390304, -0.45908404],\n",
       "       [-0.02658148, -0.28433961, -1.85304261, -0.7277642 ,  0.37197661,\n",
       "         2.07023627, -0.09069212,  1.92813063, -0.71731545, -1.62619064],\n",
       "       [ 0.04138043, -0.53199902,  0.34716552, -0.43904428, -0.68272191,\n",
       "         0.07996541,  0.71802963,  1.10521645, -1.36352888,  1.3247759 ],\n",
       "       [-0.56739034,  0.8953969 , -0.46824664,  0.05251974, -0.6215287 ,\n",
       "        -0.19151328,  1.72316046,  1.54611494, -0.8158068 ,  2.19260745],\n",
       "       [-0.07494244, -0.29547506, -0.74100034, -0.4187608 ,  1.28264508,\n",
       "         0.70939477,  1.01725926, -1.49752581,  0.85746023,  0.79396871],\n",
       "       [-0.83492464,  1.26711636, -0.68652639,  0.0762297 , -0.14369869,\n",
       "         0.68384545,  0.77276347, -0.49671428, -1.09106405,  0.90595337],\n",
       "       [ 0.44031639, -1.01451124,  0.98659224, -2.92280331, -0.17540326,\n",
       "         0.52574977,  2.13283161, -1.26780627, -1.27148203, -0.50580716]])>"
      ]
     },
     "execution_count": 29,
     "metadata": {},
     "output_type": "execute_result"
    }
   ],
   "source": [
    "W"
   ]
  },
  {
   "cell_type": "code",
   "execution_count": null,
   "metadata": {},
   "outputs": [],
   "source": []
  }
 ],
 "metadata": {
  "kernelspec": {
   "display_name": "Python 3",
   "language": "python",
   "name": "python3"
  },
  "language_info": {
   "codemirror_mode": {
    "name": "ipython",
    "version": 3
   },
   "file_extension": ".py",
   "mimetype": "text/x-python",
   "name": "python",
   "nbconvert_exporter": "python",
   "pygments_lexer": "ipython3",
   "version": "3.7.4"
  }
 },
 "nbformat": 4,
 "nbformat_minor": 4
}
